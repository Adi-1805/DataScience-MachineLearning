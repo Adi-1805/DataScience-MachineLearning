{
 "cells": [
  {
   "cell_type": "markdown",
   "id": "f5895c59-c27a-49c2-84c8-2b10c3df5dd0",
   "metadata": {},
   "source": [
    "### What is an outlier?\n",
    "An outlier is a data point in a data, set distant from all other observations. A data point lies outside the overall distribution of the dataset."
   ]
  },
  {
   "cell_type": "code",
   "execution_count": 2,
   "id": "98fd8996-6a15-40d2-88f3-0ff1c3bf4266",
   "metadata": {},
   "outputs": [],
   "source": [
    "import numpy as np\n",
    "import matplotlib.pyplot as plt\n",
    "%matplotlib inline"
   ]
  },
  {
   "cell_type": "markdown",
   "id": "d49c78d1-15b3-4fe7-8a06-b596ed627248",
   "metadata": {},
   "source": [
    "#### Criteria to identify outlier:\n",
    "1. Data point that falls outside of 1.5 times of an Inter-Quartile Range (IQR) above the 3rd quartile and below the 1st quartile.\n",
    "2. Data point falls outside of 3rd standard deviation, we can use a z score and if the z score falls outside of 2 standard deviation."
   ]
  },
  {
   "cell_type": "markdown",
   "id": "be6cb179-ed46-4fd1-9602-aa12fc37acaf",
   "metadata": {},
   "source": [
    "#### Reason for an outlier to exist:\n",
    "1. Variability in the data\n",
    "2. An experimental measurement error"
   ]
  },
  {
   "cell_type": "markdown",
   "id": "805df5d4-75ea-46a7-ac20-7096ffc7cf6a",
   "metadata": {},
   "source": [
    "#### Impacts of having outliers:\n",
    "1. It causes various problems during our statistical analysis\n",
    "2. It may cause a significant impact on the mean and the standard deviation."
   ]
  },
  {
   "cell_type": "markdown",
   "id": "805ddf6e-8f70-46e8-81f6-96e940d1a2be",
   "metadata": {},
   "source": [
    "#### Various ways of finding the outlier:\n",
    " 1. Using scatter plots\n",
    " 2. Box plot\n",
    " 3. Using Z-score, and\n",
    " 4. Using IQR"
   ]
  },
  {
   "cell_type": "code",
   "execution_count": 7,
   "id": "0c935663-e938-4f34-ad5c-9b9e84ba8733",
   "metadata": {},
   "outputs": [],
   "source": [
    "dataset= [11,10,12,14,12,15,14,13,15,102,12,14,17,19,107, 10,13,12,14,12,108,12,11,14,13,15,10,15,12,10,14,13,15,10]"
   ]
  },
  {
   "cell_type": "markdown",
   "id": "7866adfb-9786-4a2e-bdef-47d2591c93e1",
   "metadata": {},
   "source": [
    "#### Detecting outlier using Z score\n",
    "##### Using Z scores\n",
    "Formula for Z score = (Observation - Mean)/(Standard Deviation)\n",
    "\n",
    "z = (X — μ) / σ\r\n"
   ]
  },
  {
   "cell_type": "code",
   "execution_count": 9,
   "id": "8a1ea067-a742-4389-b933-6d6cef2a956b",
   "metadata": {},
   "outputs": [],
   "source": [
    "outliers = []\n",
    "def detect_outliers(data):\n",
    "    threshold = 3\n",
    "    mean = np.mean(data)\n",
    "    std = np.std(data)\n",
    "    for i in data:\n",
    "        z_score = (i-mean)/std;\n",
    "        if np.abs(z_score) > threshold: \n",
    "            # i.e., xi lies outside of 3rd standard deviation\n",
    "            outliers.append(i)\n",
    "    return outliers"
   ]
  },
  {
   "cell_type": "code",
   "execution_count": 10,
   "id": "9146df8e-de3f-4cf9-86fc-6994dcbe21a2",
   "metadata": {},
   "outputs": [
    {
     "name": "stdout",
     "output_type": "stream",
     "text": [
      "[102, 107, 108]\n"
     ]
    }
   ],
   "source": [
    "outlier_pt = detect_outliers(dataset)\n",
    "print(outliers)"
   ]
  },
  {
   "cell_type": "markdown",
   "id": "5e944c00-05d8-4b91-9f9a-dfd4129821f5",
   "metadata": {},
   "source": [
    "#### InterQuartile Range\n",
    "75% ~ 25% values in a dataset\n",
    "\n",
    "##### Steps\n",
    "1. Arrange the data in increasing order\n",
    "2. Calculate first(q1) and third quartile(q3)\n",
    "3. Find interquartile range(q3-q1)\n",
    "4. Find lower bound q1*1.5\n",
    "5. Find upper bound q3*1.5\n",
    "* Anything that lies outside of lower and upper bound is an outlier\n"
   ]
  },
  {
   "cell_type": "code",
   "execution_count": 12,
   "id": "932fed7c-9f89-4904-8159-c0f250265dec",
   "metadata": {},
   "outputs": [
    {
     "name": "stdout",
     "output_type": "stream",
     "text": [
      "12.0 15.0\n"
     ]
    }
   ],
   "source": [
    "quartile1, quartile3 = np.percentile(dataset,[25,75])\n",
    "print(quartile1,quartile3)"
   ]
  },
  {
   "cell_type": "code",
   "execution_count": 21,
   "id": "b242918b-d6f7-4881-9cf7-01bd267e20c0",
   "metadata": {},
   "outputs": [
    {
     "name": "stdout",
     "output_type": "stream",
     "text": [
      "3.0\n"
     ]
    }
   ],
   "source": [
    "# Find the IQR\n",
    "iqr_value = quartile3 - quartile1\n",
    "print(iqr_value)"
   ]
  },
  {
   "cell_type": "code",
   "execution_count": null,
   "id": "691e14ee-a6b1-4665-865c-32c818037029",
   "metadata": {},
   "outputs": [],
   "source": [
    "lower_bound = quartile1 - 1.5*("
   ]
  }
 ],
 "metadata": {
  "kernelspec": {
   "display_name": "Python 3 (ipykernel)",
   "language": "python",
   "name": "python3"
  },
  "language_info": {
   "codemirror_mode": {
    "name": "ipython",
    "version": 3
   },
   "file_extension": ".py",
   "mimetype": "text/x-python",
   "name": "python",
   "nbconvert_exporter": "python",
   "pygments_lexer": "ipython3",
   "version": "3.11.7"
  }
 },
 "nbformat": 4,
 "nbformat_minor": 5
}
