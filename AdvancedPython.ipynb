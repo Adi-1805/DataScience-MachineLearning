{
 "cells": [
  {
   "cell_type": "markdown",
   "id": "3d07b315-abe2-4a71-932c-536671a4387c",
   "metadata": {},
   "source": [
    "## Python Exception Handling"
   ]
  },
  {
   "cell_type": "code",
   "execution_count": 22,
   "id": "f1bc86c9-76f4-4e88-92b0-d14e39912adf",
   "metadata": {},
   "outputs": [
    {
     "ename": "NameError",
     "evalue": "name 'b' is not defined",
     "output_type": "error",
     "traceback": [
      "\u001b[1;31m---------------------------------------------------------------------------\u001b[0m",
      "\u001b[1;31mNameError\u001b[0m                                 Traceback (most recent call last)",
      "Cell \u001b[1;32mIn[22], line 1\u001b[0m\n\u001b[1;32m----> 1\u001b[0m a \u001b[38;5;241m=\u001b[39m b\n",
      "\u001b[1;31mNameError\u001b[0m: name 'b' is not defined"
     ]
    }
   ],
   "source": [
    "# a = b"
   ]
  },
  {
   "cell_type": "code",
   "execution_count": 5,
   "id": "be2b109c-242e-4b39-bdfa-f23e553d90ae",
   "metadata": {},
   "outputs": [
    {
     "name": "stdout",
     "output_type": "stream",
     "text": [
      "Some error occured.\n"
     ]
    }
   ],
   "source": [
    "try:\n",
    "    ### code block where the exception can occur\n",
    "    a = b\n",
    "except:\n",
    "    print(\"Some error occured.\")"
   ]
  },
  {
   "cell_type": "markdown",
   "id": "24cec55f-dd28-4797-9734-e951eb3c33f9",
   "metadata": {},
   "source": [
    "### A better way would be:\n",
    "(by using \"Exception\" class)"
   ]
  },
  {
   "cell_type": "code",
   "execution_count": 28,
   "id": "ca383e1c-a9e7-431c-a42b-f01c3205c5fa",
   "metadata": {},
   "outputs": [
    {
     "name": "stdout",
     "output_type": "stream",
     "text": [
      "name 'b' is not defined\n"
     ]
    }
   ],
   "source": [
    "try:\n",
    "    ## code block where excpetion can occur\n",
    "    a = b\n",
    "except Exception as ex:\n",
    "    print(ex)"
   ]
  },
  {
   "cell_type": "markdown",
   "id": "d6efb096-3da3-4044-a22d-0db92849c043",
   "metadata": {},
   "source": [
    "We can use error names specifically to define the EXCEPT clause"
   ]
  },
  {
   "cell_type": "code",
   "execution_count": 47,
   "id": "739155f7-571a-446a-abd3-6740834246ff",
   "metadata": {},
   "outputs": [
    {
     "name": "stdin",
     "output_type": "stream",
     "text": [
      "Enter a number: 1\n",
      "Enter another number: 0\n"
     ]
    },
    {
     "name": "stdout",
     "output_type": "stream",
     "text": [
      "Division by zero is undefined!\n"
     ]
    }
   ],
   "source": [
    "try:\n",
    "    ## code block where exception can occur\n",
    "    a = int(input(\"Enter a number:\"))\n",
    "    b = int(input(\"Enter another number:\"))\n",
    "    c = a/b\n",
    "    print(c)\n",
    "except NameError:\n",
    "    print(\"The variable is not declared!\")\n",
    "except TypeError: \n",
    "    print(\"The operation cannot be performed on variables with diffrent datatypes!\")\n",
    "except ZeroDivisionError: \n",
    "    print(\"Division by zero is undefined!\")\n",
    "except Exception as ex:\n",
    "    print(ex)\n",
    "else:\n",
    "    ## The execution can be done in the ELSE block too\n",
    "    pass\n",
    "finally:\n",
    "    ## can contain a conclusive execution kinda message and close the database and stuff, this block will always be executed \n",
    "    pass\n",
    "    "
   ]
  },
  {
   "cell_type": "code",
   "execution_count": 43,
   "id": "6e4a1c4f-459b-493d-bb35-52e1cd66a730",
   "metadata": {},
   "outputs": [],
   "source": [
    "## 1/0"
   ]
  },
  {
   "cell_type": "markdown",
   "id": "ef1b8a4b-fc15-4e49-baec-def1e3383e93",
   "metadata": {},
   "source": [
    "### Custom Exception"
   ]
  },
  {
   "cell_type": "code",
   "execution_count": 54,
   "id": "0906db32-d413-41ac-b7fd-d630585be0ba",
   "metadata": {},
   "outputs": [],
   "source": [
    "class Error(Exception):\n",
    "    pass\n",
    "class dobException(Error):\n",
    "    pass\n",
    "class customgeneric(Error):\n",
    "    pass"
   ]
  },
  {
   "cell_type": "code",
   "execution_count": 56,
   "id": "9744e9ff-1f81-4587-b8cc-c54219ba21ab",
   "metadata": {},
   "outputs": [
    {
     "name": "stdin",
     "output_type": "stream",
     "text": [
      "Enter the year of Birth: 1866\n"
     ]
    },
    {
     "name": "stdout",
     "output_type": "stream",
     "text": [
      "The age is not within the range. You can apply for the exams.\n"
     ]
    }
   ],
   "source": [
    "year = int(input(\"Enter the year of Birth:\"))\n",
    "age = 2021 - year\n",
    "try:\n",
    "    if age<=30 & age>20:\n",
    "        print(\"The age is valid. You can apply for the exams.\")\n",
    "    else:\n",
    "        raise dobException\n",
    "except dobException:\n",
    "    print(\"The age is not within the range. You can apply for the exams.\")"
   ]
  },
  {
   "cell_type": "code",
   "execution_count": 62,
   "id": "1a020131-746a-4f9b-9961-655e0d3d38b6",
   "metadata": {},
   "outputs": [],
   "source": [
    "### All the class variables are public\n",
    "class Car():\n",
    "    def __inint__(self, windows, doors, enginetype):\n",
    "        self.windows = windows\n",
    "        self.doors = doors\n",
    "        self.enginetypes = enginetype\n",
    "    def drive():\n",
    "        print(\"The chaffeur drives the car\")"
   ]
  },
  {
   "cell_type": "code",
   "execution_count": null,
   "id": "dd3fcb5d-a7e8-4e8c-9e50-d276f1e59097",
   "metadata": {},
   "outputs": [],
   "source": []
  },
  {
   "cell_type": "code",
   "execution_count": null,
   "id": "1cd38240-e34e-4676-82f6-b0b71f8fbc13",
   "metadata": {},
   "outputs": [],
   "source": []
  }
 ],
 "metadata": {
  "kernelspec": {
   "display_name": "Python 3 (ipykernel)",
   "language": "python",
   "name": "python3"
  },
  "language_info": {
   "codemirror_mode": {
    "name": "ipython",
    "version": 3
   },
   "file_extension": ".py",
   "mimetype": "text/x-python",
   "name": "python",
   "nbconvert_exporter": "python",
   "pygments_lexer": "ipython3",
   "version": "3.11.7"
  }
 },
 "nbformat": 4,
 "nbformat_minor": 5
}
