{
 "cells": [
  {
   "cell_type": "markdown",
   "id": "b720edf3-3210-4e7c-bc24-1c4e4d20c551",
   "metadata": {},
   "source": [
    "# Numpy Tutorials\n",
    "NumPy is a general-purpose array-processing package. It provides a high-performance multidimensional array object, and tools for working with these arrays. It is the fundamental package for scientific computing with Python\n",
    "\n",
    "### What is an array\n",
    "An array is a data structure that stores values of same data type. In Python, this is the main difference between arrays and lists. While python lists can contain values corresponding to different data types, arrays in python can only contain values corresponding to same data type.\n",
    "\n",
    "##### Points to remember:\n",
    "- Arrays get referenced\n",
    "- Vectorized operations: NumPy provides vectorized operations, which allow you to perform operations on entire arrays at once, rather than iterating over individual elements\n",
    "- Matrix multiplication: Perform matrix multiplication using the @ operator"
   ]
  },
  {
   "cell_type": "code",
   "execution_count": 1,
   "id": "d3d3b167-9564-4fbb-ad5b-7e7672488dad",
   "metadata": {},
   "outputs": [],
   "source": [
    " ## initially lets import numpy\n",
    "import numpy as np"
   ]
  },
  {
   "cell_type": "code",
   "execution_count": 2,
   "id": "9d81c399-60aa-4751-9ceb-b86a615ee9b7",
   "metadata": {},
   "outputs": [],
   "source": [
    "my_lst = [1,2,3,4,5]\n",
    "arr = np.array(my_lst)"
   ]
  },
  {
   "cell_type": "code",
   "execution_count": 3,
   "id": "92aac71f-33da-41be-bb63-5b90ab8e7fee",
   "metadata": {},
   "outputs": [
    {
     "data": {
      "text/plain": [
       "numpy.ndarray"
      ]
     },
     "execution_count": 3,
     "metadata": {},
     "output_type": "execute_result"
    }
   ],
   "source": [
    " type(arr)"
   ]
  },
  {
   "cell_type": "code",
   "execution_count": 4,
   "id": "b6646430-cce6-452e-9e62-b11ebab829a9",
   "metadata": {},
   "outputs": [
    {
     "data": {
      "text/plain": [
       "array([1, 2, 3, 4, 5])"
      ]
     },
     "execution_count": 4,
     "metadata": {},
     "output_type": "execute_result"
    }
   ],
   "source": [
    " arr"
   ]
  },
  {
   "cell_type": "code",
   "execution_count": 5,
   "id": "e6f856c0-1827-47d1-b04d-a86041efea46",
   "metadata": {},
   "outputs": [
    {
     "name": "stdout",
     "output_type": "stream",
     "text": [
      "[1 2 3 4 5]\n"
     ]
    }
   ],
   "source": [
    "print(arr)"
   ]
  },
  {
   "cell_type": "code",
   "execution_count": 7,
   "id": "3ebdd7fe-e19f-4287-9908-1171bf27c494",
   "metadata": {},
   "outputs": [
    {
     "data": {
      "text/plain": [
       "(5,)"
      ]
     },
     "execution_count": 7,
     "metadata": {},
     "output_type": "execute_result"
    }
   ],
   "source": [
    " arr.shape #gives out dimension of the array"
   ]
  },
  {
   "cell_type": "code",
   "execution_count": 8,
   "id": "8c914b66-6a0e-439b-a43c-3b2fc14ffc96",
   "metadata": {},
   "outputs": [],
   "source": [
    "# Multinested array\n",
    "my_lst1 = [1,2,3,4,5]\n",
    "my_lst2 = [2,3,4,5,6]\n",
    "my_lst3 = [9,7,6,8,9]\n",
    "\n",
    "arr = np.array([my_lst1,my_lst2,my_lst3])"
   ]
  },
  {
   "cell_type": "code",
   "execution_count": 9,
   "id": "d6d05de5-a143-4538-89b1-cf665a7a53eb",
   "metadata": {},
   "outputs": [
    {
     "name": "stdout",
     "output_type": "stream",
     "text": [
      "[[1 2 3 4 5]\n",
      " [2 3 4 5 6]\n",
      " [9 7 6 8 9]]\n"
     ]
    }
   ],
   "source": [
    "print(arr)"
   ]
  },
  {
   "cell_type": "code",
   "execution_count": 10,
   "id": "e59b1077-b0d5-48be-b740-3df0e65dc999",
   "metadata": {},
   "outputs": [
    {
     "data": {
      "text/plain": [
       "(3, 5)"
      ]
     },
     "execution_count": 10,
     "metadata": {},
     "output_type": "execute_result"
    }
   ],
   "source": [
    "arr.shape"
   ]
  },
  {
   "cell_type": "code",
   "execution_count": 15,
   "id": "b1a23795-4823-48f4-be68-222b887445db",
   "metadata": {},
   "outputs": [
    {
     "data": {
      "text/plain": [
       "array([[1, 2, 3],\n",
       "       [4, 5, 2],\n",
       "       [3, 4, 5],\n",
       "       [6, 9, 7],\n",
       "       [6, 8, 9]])"
      ]
     },
     "execution_count": 15,
     "metadata": {},
     "output_type": "execute_result"
    }
   ],
   "source": [
    "arrT = arr.reshape(5,3)\n",
    "arrT"
   ]
  },
  {
   "cell_type": "code",
   "execution_count": 12,
   "id": "f358cbfb-1b44-460f-ad22-85316324cee8",
   "metadata": {},
   "outputs": [
    {
     "data": {
      "text/plain": [
       "(3, 5)"
      ]
     },
     "execution_count": 12,
     "metadata": {},
     "output_type": "execute_result"
    }
   ],
   "source": [
    "arr.shape"
   ]
  },
  {
   "cell_type": "code",
   "execution_count": 19,
   "id": "76b2df81-85d1-4661-8640-224d94841aa4",
   "metadata": {},
   "outputs": [
    {
     "name": "stdout",
     "output_type": "stream",
     "text": [
      "[[1 2 3 4 5]\n",
      " [2 3 4 5 6]\n",
      " [9 7 6 8 9]]\n"
     ]
    }
   ],
   "source": [
    "## INDEXING\n",
    "print( arr[:,:])"
   ]
  },
  {
   "cell_type": "code",
   "execution_count": 20,
   "id": "0646c33e-b4f0-4d73-92f3-fee3b7959fb7",
   "metadata": {},
   "outputs": [
    {
     "name": "stdout",
     "output_type": "stream",
     "text": [
      "[[1 2]\n",
      " [2 3]]\n"
     ]
    }
   ],
   "source": [
    "print( arr[0:2,0:2])"
   ]
  },
  {
   "cell_type": "code",
   "execution_count": 22,
   "id": "f780f222-5cae-4d3e-97a4-ae121d57a892",
   "metadata": {},
   "outputs": [
    {
     "data": {
      "text/plain": [
       "array([[5, 6],\n",
       "       [8, 9]])"
      ]
     },
     "execution_count": 22,
     "metadata": {},
     "output_type": "execute_result"
    }
   ],
   "source": [
    "arr[1:,3:]"
   ]
  },
  {
   "cell_type": "code",
   "execution_count": 28,
   "id": "afa23038-1201-435a-acee-e307163d2fee",
   "metadata": {},
   "outputs": [
    {
     "data": {
      "text/plain": [
       "array([0, 2, 4, 6, 8])"
      ]
     },
     "execution_count": 28,
     "metadata": {},
     "output_type": "execute_result"
    }
   ],
   "source": [
    "arr = np.arange(0,10,step = 2)\n",
    "arr"
   ]
  },
  {
   "cell_type": "code",
   "execution_count": 27,
   "id": "59523be9-2724-4fa2-804f-15062438948f",
   "metadata": {},
   "outputs": [
    {
     "data": {
      "text/plain": [
       "array([ 0.        ,  0.20408163,  0.40816327,  0.6122449 ,  0.81632653,\n",
       "        1.02040816,  1.2244898 ,  1.42857143,  1.63265306,  1.83673469,\n",
       "        2.04081633,  2.24489796,  2.44897959,  2.65306122,  2.85714286,\n",
       "        3.06122449,  3.26530612,  3.46938776,  3.67346939,  3.87755102,\n",
       "        4.08163265,  4.28571429,  4.48979592,  4.69387755,  4.89795918,\n",
       "        5.10204082,  5.30612245,  5.51020408,  5.71428571,  5.91836735,\n",
       "        6.12244898,  6.32653061,  6.53061224,  6.73469388,  6.93877551,\n",
       "        7.14285714,  7.34693878,  7.55102041,  7.75510204,  7.95918367,\n",
       "        8.16326531,  8.36734694,  8.57142857,  8.7755102 ,  8.97959184,\n",
       "        9.18367347,  9.3877551 ,  9.59183673,  9.79591837, 10.        ])"
      ]
     },
     "execution_count": 27,
     "metadata": {},
     "output_type": "execute_result"
    }
   ],
   "source": [
    "np.linspace(0,10,50) # gives equally spaced 50 numbers between 0 and 10 included"
   ]
  },
  {
   "cell_type": "code",
   "execution_count": 30,
   "id": "1141980a-c438-454b-b1e5-9cb8e5de6842",
   "metadata": {},
   "outputs": [
    {
     "data": {
      "text/plain": [
       "array([  0,   2,   4, 100, 100])"
      ]
     },
     "execution_count": 30,
     "metadata": {},
     "output_type": "execute_result"
    }
   ],
   "source": [
    "arr[3:] = 100\n",
    "arr"
   ]
  },
  {
   "cell_type": "code",
   "execution_count": 32,
   "id": "36e60131-9598-4b35-a4c2-1c5d1348faab",
   "metadata": {},
   "outputs": [
    {
     "name": "stdout",
     "output_type": "stream",
     "text": [
      "[  0   2   4 100 100]\n"
     ]
    }
   ],
   "source": [
    "arr1 = arr\n",
    "print(arr1)"
   ]
  },
  {
   "cell_type": "code",
   "execution_count": 34,
   "id": "6d4225ff-2f63-4ea5-b11c-576658a2d1ff",
   "metadata": {},
   "outputs": [
    {
     "name": "stdout",
     "output_type": "stream",
     "text": [
      "[  0   2   4 500 500]\n"
     ]
    }
   ],
   "source": [
    "arr1[3:] = 500\n",
    "print(arr1)"
   ]
  },
  {
   "cell_type": "code",
   "execution_count": 41,
   "id": "fd8a8f4e-c8e8-4b9b-b7da-daa0b58eb411",
   "metadata": {},
   "outputs": [
    {
     "data": {
      "text/plain": [
       "array([  0,   2,   4, 500, 500])"
      ]
     },
     "execution_count": 41,
     "metadata": {},
     "output_type": "execute_result"
    }
   ],
   "source": [
    "arr\n",
    "# You will witness that the content of arr has changed as we made changes in arr1. This means that arr1 = arr this makes arr1 and arr share the same space and not a copy\n"
   ]
  },
  {
   "cell_type": "code",
   "execution_count": 45,
   "id": "1b82bc0d-a532-4ec1-af6b-20ef7e609d4a",
   "metadata": {},
   "outputs": [
    {
     "name": "stdout",
     "output_type": "stream",
     "text": [
      "[  0   2   4 500 500]\n",
      "[   0    2    4  500 1000]\n"
     ]
    }
   ],
   "source": [
    "# To make a true copy\n",
    "arr2 = arr1.copy()\n",
    "arr2[4:] = 1000\n",
    "print(arr1)\n",
    "print(arr2)"
   ]
  },
  {
   "cell_type": "code",
   "execution_count": 48,
   "id": "1144b0ed-dec2-48fb-9ac9-be8ecdbb16be",
   "metadata": {},
   "outputs": [
    {
     "data": {
      "text/plain": [
       "array([ True, False, False, False, False])"
      ]
     },
     "execution_count": 48,
     "metadata": {},
     "output_type": "execute_result"
    }
   ],
   "source": [
    "# Some conditions useful in exploratory data analysis\n",
    "\n",
    "val = 2\n",
    "arr<val # gives true or false in the array where the condition satisfies"
   ]
  },
  {
   "cell_type": "code",
   "execution_count": 51,
   "id": "119b60fa-c03c-48f1-b62f-6a4888314601",
   "metadata": {},
   "outputs": [
    {
     "data": {
      "text/plain": [
       "array([0, 2])"
      ]
     },
     "execution_count": 51,
     "metadata": {},
     "output_type": "execute_result"
    }
   ],
   "source": [
    "arr[arr<=val] # gives actual elements that satisfy the condition"
   ]
  },
  {
   "cell_type": "code",
   "execution_count": 56,
   "id": "167fd340-d28c-4d9d-9efe-ac9a8f44452e",
   "metadata": {},
   "outputs": [
    {
     "data": {
      "text/plain": [
       "array([  0.,   1.,   2., 250., 250.])"
      ]
     },
     "execution_count": 56,
     "metadata": {},
     "output_type": "execute_result"
    }
   ],
   "source": [
    "arr/2 # operates in each individual array element"
   ]
  },
  {
   "cell_type": "code",
   "execution_count": 59,
   "id": "2cf4ebf1-eb8d-41ec-8590-bb7d9dd411c7",
   "metadata": {},
   "outputs": [
    {
     "data": {
      "text/plain": [
       "array([[0, 1],\n",
       "       [2, 3],\n",
       "       [4, 5],\n",
       "       [6, 7],\n",
       "       [8, 9]])"
      ]
     },
     "execution_count": 59,
     "metadata": {},
     "output_type": "execute_result"
    }
   ],
   "source": [
    "# Create arrays and reshape\n",
    "arr1 = np.arange(0,10).reshape(5,2)\n",
    "arr1"
   ]
  },
  {
   "cell_type": "code",
   "execution_count": 60,
   "id": "b3d4f9e3-5804-4eaa-b901-194c554237b2",
   "metadata": {},
   "outputs": [
    {
     "data": {
      "text/plain": [
       "array([[ 0,  1],\n",
       "       [ 4,  9],\n",
       "       [16, 25],\n",
       "       [36, 49],\n",
       "       [64, 81]])"
      ]
     },
     "execution_count": 60,
     "metadata": {},
     "output_type": "execute_result"
    }
   ],
   "source": [
    "arr2 = arr1.copy()\n",
    "arr1*arr2"
   ]
  },
  {
   "cell_type": "code",
   "execution_count": 61,
   "id": "770b0460-01a0-4269-ac8e-8cd8b6d7aca0",
   "metadata": {},
   "outputs": [
    {
     "data": {
      "text/plain": [
       "array([1., 1., 1., 1.])"
      ]
     },
     "execution_count": 61,
     "metadata": {},
     "output_type": "execute_result"
    }
   ],
   "source": [
    "np.ones(4)"
   ]
  },
  {
   "cell_type": "code",
   "execution_count": 62,
   "id": "33827443-9b10-4b35-a029-127a521bdbba",
   "metadata": {},
   "outputs": [
    {
     "data": {
      "text/plain": [
       "array([1, 1, 1, 1, 1])"
      ]
     },
     "execution_count": 62,
     "metadata": {},
     "output_type": "execute_result"
    }
   ],
   "source": [
    "np.ones(5,dtype=int)"
   ]
  },
  {
   "cell_type": "code",
   "execution_count": 63,
   "id": "da867001-507f-430c-abfd-847f310658c2",
   "metadata": {},
   "outputs": [
    {
     "data": {
      "text/plain": [
       "array([[1., 1., 1., 1., 1.],\n",
       "       [1., 1., 1., 1., 1.]])"
      ]
     },
     "execution_count": 63,
     "metadata": {},
     "output_type": "execute_result"
    }
   ],
   "source": [
    "np.ones((2,5))"
   ]
  },
  {
   "cell_type": "code",
   "execution_count": 65,
   "id": "84750f15-24e2-43f3-926a-7c61e7d82483",
   "metadata": {},
   "outputs": [
    {
     "data": {
      "text/plain": [
       "array([[0.19562411, 0.23322118, 0.42126744],\n",
       "       [0.84785437, 0.12034298, 0.11298148],\n",
       "       [0.99012825, 0.83867326, 0.14047326]])"
      ]
     },
     "execution_count": 65,
     "metadata": {},
     "output_type": "execute_result"
    }
   ],
   "source": [
    "## random distribution\n",
    "np.random.rand(3,3) # only between 0 and 1"
   ]
  },
  {
   "cell_type": "code",
   "execution_count": 67,
   "id": "4941c914-0a7b-4b88-a7cc-b2e5ccd703d5",
   "metadata": {},
   "outputs": [
    {
     "data": {
      "text/plain": [
       "array([[ 1.09218811,  0.30431308, -0.10743852, -0.74894951],\n",
       "       [ 0.83268248, -1.53673425,  0.55044025, -1.06047292],\n",
       "       [ 0.64005935,  1.84286338,  0.26176731,  0.57170976],\n",
       "       [-0.15328321,  0.64234808, -0.34080495, -0.04169317]])"
      ]
     },
     "execution_count": 67,
     "metadata": {},
     "output_type": "execute_result"
    }
   ],
   "source": [
    "np.random.randn(4,4) # gives standard normal distribution "
   ]
  },
  {
   "cell_type": "code",
   "execution_count": 69,
   "id": "631e2320-22f6-4cb6-906a-52aa768a7c01",
   "metadata": {},
   "outputs": [
    {
     "data": {
      "text/plain": [
       "array([[34, 47],\n",
       "       [95, 27],\n",
       "       [ 0, 35],\n",
       "       [63, 76]])"
      ]
     },
     "execution_count": 69,
     "metadata": {},
     "output_type": "execute_result"
    }
   ],
   "source": [
    "np.random.randint(0,100,8).reshape(4,2) # selects 8 integers between 0 and 1 in a 4x2 array"
   ]
  },
  {
   "cell_type": "code",
   "execution_count": null,
   "id": "0a3ef3a1-65dd-4356-860d-a0675b0a4ff6",
   "metadata": {},
   "outputs": [],
   "source": []
  }
 ],
 "metadata": {
  "kernelspec": {
   "display_name": "Python 3 (ipykernel)",
   "language": "python",
   "name": "python3"
  },
  "language_info": {
   "codemirror_mode": {
    "name": "ipython",
    "version": 3
   },
   "file_extension": ".py",
   "mimetype": "text/x-python",
   "name": "python",
   "nbconvert_exporter": "python",
   "pygments_lexer": "ipython3",
   "version": "3.11.7"
  }
 },
 "nbformat": 4,
 "nbformat_minor": 5
}
